{
 "cells": [
  {
   "cell_type": "markdown",
   "id": "090db791-e3df-4fef-a661-0341b23f83d3",
   "metadata": {},
   "source": [
    "# Imports"
   ]
  },
  {
   "cell_type": "code",
   "execution_count": 6,
   "id": "3fba24b3-81b4-4d64-813d-f6ce7636e8aa",
   "metadata": {
    "jupyter": {
     "source_hidden": true
    }
   },
   "outputs": [],
   "source": [
    "import numpy as np\n",
    "import pandas as pd\n",
    "import matplotlib.pyplot as plt\n",
    "import seaborn as sns\n",
    "import tabulate as tabulate\n",
    "from matplotlib.ticker import FuncFormatter\n",
    "from mpl_toolkits.mplot3d import Axes3D\n",
    "import plotly.express as px\n",
    "from matplotlib.colors import TwoSlopeNorm\n",
    "\n",
    "pd.set_option('display.float_format', '{:,.0f}'.format)"
   ]
  },
  {
   "cell_type": "markdown",
   "id": "a44be427-783a-4f3f-a095-87bab70d44ca",
   "metadata": {},
   "source": [
    "# From previous work"
   ]
  },
  {
   "cell_type": "markdown",
   "id": "0bce4a93-2c01-40fb-98ba-8251f31989e8",
   "metadata": {},
   "source": [
    "## Importing Electricity"
   ]
  },
  {
   "cell_type": "code",
   "execution_count": 2,
   "id": "ba7a4dcd-bfa2-46a1-ba69-2a5575188974",
   "metadata": {
    "jupyter": {
     "source_hidden": true
    }
   },
   "outputs": [],
   "source": [
    "elecdf=pd.read_csv(r\"C:\\Users\\tonya\\OneDrive - Rutgers University\\Documents\\Rutgers\\Research\\NRELAnalysis\\Electricity.csv\")\n",
    "\n",
    "elecMAWNC=elecdf[elecdf['Division'].isin(['Mid Atlantic', 'West North Central'])]\n",
    "elecMAWNC=elecMAWNC.drop('Used on Plant (Cent/s)', axis=1)\n",
    "elecMAWNC=elecMAWNC.drop('Total Electriciy (Cent/s)', axis=1)\n",
    "elecMAWNC['Price ($/kWh)']=elecMAWNC['Industrial 2024 (Cent/kWh)']/100"
   ]
  },
  {
   "cell_type": "code",
   "execution_count": 21,
   "id": "aba3b866-ffbf-4e69-9631-4f895d6e7400",
   "metadata": {
    "jupyter": {
     "source_hidden": true
    }
   },
   "outputs": [
    {
     "name": "stdout",
     "output_type": "stream",
     "text": [
      "H rxn: 254.3\n",
      "G rxn: 270.1\n",
      "Formic Acid Produced: 47.4 mol/s\n"
     ]
    }
   ],
   "source": [
    "FAthermo={\n",
    "    'Compound': ['CO2', 'H2O', 'O2', 'CH2O2'], \n",
    "    'H form': [-393.5, -285.8, 0, -425], \n",
    "    'G form': [-394.4, -237.1, 0, -361.4], \n",
    "}\n",
    "FAtherm_df=pd.DataFrame(FAthermo)\n",
    "FA=FAtherm_df.loc[FAtherm_df['Compound']=='CH2O2']\n",
    "CO2=FAtherm_df.loc[FAtherm_df['Compound']=='CO2']\n",
    "H2O=FAtherm_df.loc[FAtherm_df['Compound']=='H2O']\n",
    "H_rxn=FA['H form'].values[0] - (CO2['H form'].values[0] + H2O['H form'].values[0])\n",
    "G_rxn=FA['G form'].values[0] - (CO2['G form'].values[0] + H2O['G form'].values[0])\n",
    "print(f\"H rxn: {H_rxn:.1f}\")\n",
    "print(f\"G rxn: {G_rxn:.1f}\")\n",
    "\n",
    "genelec=12797\n",
    "FAprod=genelec/G_rxn\n",
    "print(f\"Formic Acid Produced: {FAprod:.1f} mol/s\")\n",
    "FAmass=(FAprod*46.03)/1000 #kg/s"
   ]
  },
  {
   "cell_type": "markdown",
   "id": "54e7adfa-f960-4ee4-a5b0-e39fd96ae4d9",
   "metadata": {},
   "source": [
    "## Reference Ethanol Electrolyzer from Jouny Paper"
   ]
  },
  {
   "cell_type": "code",
   "execution_count": 22,
   "id": "085a3e1b-5283-4dd5-968f-64fefc1ed21f",
   "metadata": {
    "jupyter": {
     "source_hidden": true
    }
   },
   "outputs": [
    {
     "name": "stdout",
     "output_type": "stream",
     "text": [
      "Electrolyzer Area: 18471.4 m^2\n",
      "Total Power Required: 56.6 MW\n",
      "Price of Electricity Required for Electrolyzer in NJ: $54,305,978/yr\n",
      "Annual Profit of Ethanol: $17,333,333/yr\n",
      "Annual Price of CO2 at $40/ton: $1,273,990/yr\n",
      "Annual Profit of Electrolyzer: $-38,246,635/yr\n",
      " Base Cost ($/kW)  Installed Cost ($/m^2)  Electrolyzer Capital Cost ($) Payback Period (years)\n",
      "        250                  919                    16,970,618                   -0.44         \n",
      "        550                2,021                    37,335,360                   -0.98         \n",
      "       2640                9,702                   179,209,726                   -4.69         \n"
     ]
    }
   ],
   "source": [
    "refEV=1.75 #Reference electrolyzer voltage in V\n",
    "refCD=0.175 #Reference electrolyzer current density in A/cm^2\n",
    "refprod=100000 #kg/day of ethanol\n",
    "\n",
    "#Electrolyzer Assumptions\n",
    "FarEff=0.9 #90% Faradaic efficiency\n",
    "elpm=12 #12 electrons per mole of ethanol\n",
    "MWFA=46.06 #molecular weight of FA in g/mol\n",
    "fc=96480 #Faradays Constant in C/mol\n",
    "kgtog=1000 #conversion of kg to g\n",
    "totcur=((refprod/86400)*kgtog*(1/MWFA)*elpm*fc)/FarEff\n",
    "elecareacalc=(totcur/refCD)*(1/(10**4))\n",
    "print(f\"Electrolyzer Area: {elecareacalc:.1f} m^2\")\n",
    "powerneed=(totcur*refEV)/(10**6)\n",
    "print(f\"Total Power Required: {powerneed:.1f} MW\")\n",
    "elecreq=0.12*powerneed*1000*8000\n",
    "print(f\"Price of Electricity Required for Electrolyzer in NJ: ${elecreq:,.0f}/yr\")\n",
    "\n",
    "ezrcost={\n",
    "    'Base Cost ($/kW)': [250, 550, 2640], \n",
    "}\n",
    "ezrcost_df=pd.DataFrame(ezrcost)\n",
    "ezrcost_df['Installed Cost ($/m^2)']=ezrcost_df['Base Cost ($/kW)']*refEV*refCD/1000*(10**4)*1.2\n",
    "ezrcost_df['Electrolyzer Capital Cost ($)']=ezrcost_df['Installed Cost ($/m^2)']*elecareacalc\n",
    "\n",
    "annFA=refprod*(8000/24)/1000 #kg/day * 1day/24h* 8000h/yr *1ton/1000 kg\n",
    "sellannFA=annFA*520\n",
    "print(f\"Annual Profit of Ethanol: ${sellannFA:,.0f}/yr\")\n",
    "annCO2=annFA*(44.01/46.06) #tonFA/yr*1000kg/1ton*1kmolFA/46.03kg*1kmolCO2/1kmolFA*44.01kg/1kmolCO2*1ton/1000kg\n",
    "sellannCO2=annCO2*40\n",
    "print(f\"Annual Price of CO2 at $40/ton: ${sellannCO2:,.0f}/yr\")\n",
    "yearprof=sellannFA-elecreq-sellannCO2\n",
    "print(f\"Annual Profit of Electrolyzer: ${yearprof:,.0f}/yr\")\n",
    "\n",
    "ezrcost_df['Payback Period (years)']=(ezrcost_df['Electrolyzer Capital Cost ($)']/yearprof).apply(lambda x: f\"{x:,.2f}\")\n",
    "print(ezrcost_df.to_string(index=False, justify='center'))"
   ]
  },
  {
   "cell_type": "markdown",
   "id": "0c96b6ca-7def-41a1-bc3c-dd084566eb5a",
   "metadata": {},
   "source": [
    "## Using parameters from Jouny Paper for Formic Acid"
   ]
  },
  {
   "cell_type": "code",
   "execution_count": 23,
   "id": "cf2cfe99-a3d5-4378-8ded-e86cd73c8dae",
   "metadata": {
    "jupyter": {
     "source_hidden": true
    }
   },
   "outputs": [
    {
     "name": "stdout",
     "output_type": "stream",
     "text": [
      "Electrolyzer Area: 3386.0 m^2\n",
      "Total Power Required: 20.3 MW\n",
      "Price of Electricity Required for Electrolyzer in NJ: $19,503,367/yr\n",
      "Annual Profit of Formic Acid: $34,544,566/yr\n",
      "Annual Price of CO2 at $40/ton: $2,402,080/yr\n",
      "Annual Profit of Electrolyzer: $12,639,119/yr\n",
      " Base Cost ($/kW)  Installed Cost ($/m^2)  Electrolyzer Capital Cost ($) Payback Period (years)\n",
      "        250                 1,800                    6,094,802                    0.48         \n",
      "        550                 3,960                   13,408,565                    1.06         \n",
      "       2640                19,008                   64,361,111                    5.09         \n"
     ]
    }
   ],
   "source": [
    "#Electrolyzer Assumptions\n",
    "cellvolt=2 #in V\n",
    "prodsel=0.90 #85% product selectiviy, assuming this is where purity of product comes into play. Also is the Faradaic efficiency\n",
    "elpm=2 #2 electrons per mole of Formic Acid\n",
    "MWFA=46.03 #molecular weight of FA in g/mol\n",
    "fc=96480 #Faradays Constant in C/mol\n",
    "kgtog=1000 #conversion of kg to g\n",
    "curd=.3 #current density in A/cm^2\n",
    "totcur=((FAmass*kgtog)/MWFA)*elpm*fc/prodsel\n",
    "elecareacalc=(totcur/curd)*(1/(10**4))\n",
    "print(f\"Electrolyzer Area: {elecareacalc:.1f} m^2\")\n",
    "powerneed=(totcur*cellvolt)/(10**6)\n",
    "print(f\"Total Power Required: {powerneed:.1f} MW\")\n",
    "elecreq=0.12*powerneed*1000*8000\n",
    "print(f\"Price of Electricity Required for Electrolyzer in NJ: ${elecreq:,.0f}/yr\")\n",
    "\n",
    "ezrcost={\n",
    "    'Base Cost ($/kW)': [250, 550, 2640], \n",
    "}\n",
    "ezrcost_df=pd.DataFrame(ezrcost)\n",
    "ezrcost_df['Installed Cost ($/m^2)']=ezrcost_df['Base Cost ($/kW)']*cellvolt*curd/1000*(10**4)*1.2\n",
    "ezrcost_df['Electrolyzer Capital Cost ($)']=ezrcost_df['Installed Cost ($/m^2)']*elecareacalc\n",
    "\n",
    "annFA=FAmass*(60*60*8000)/1000 #kg/s * 60s/min*60min/h* 8000h/yr *1ton/1000 kg\n",
    "sellannFA=annFA*550\n",
    "print(f\"Annual Profit of Formic Acid: ${sellannFA:,.0f}/yr\")\n",
    "annCO2=annFA*(44.01/46.03) #tonFA/yr*1000kg/1ton*1kmolFA/46.03kg*1kmolCO2/1kmolFA*44.01kg/1kmolCO2*1ton/1000kg\n",
    "sellannCO2=annCO2*40\n",
    "print(f\"Annual Price of CO2 at $40/ton: ${sellannCO2:,.0f}/yr\")\n",
    "yearprof=sellannFA-elecreq-sellannCO2\n",
    "print(f\"Annual Profit of Electrolyzer: ${yearprof:,.0f}/yr\")\n",
    "\n",
    "ezrcost_df['Payback Period (years)']=(ezrcost_df['Electrolyzer Capital Cost ($)']/yearprof).apply(lambda x: f\"{x:,.2f}\")\n",
    "print(ezrcost_df.to_string(index=False, justify='center'))"
   ]
  },
  {
   "cell_type": "markdown",
   "id": "1a65cb11-50fc-4020-8b2f-017471e8044f",
   "metadata": {},
   "source": [
    "## Using Summary Table for Formic Acid from Huang paper"
   ]
  },
  {
   "cell_type": "code",
   "execution_count": 31,
   "id": "40cf3519-f58b-445d-9458-6c554dea2112",
   "metadata": {
    "jupyter": {
     "source_hidden": true
    }
   },
   "outputs": [
    {
     "name": "stdout",
     "output_type": "stream",
     "text": [
      "Electrolyzer Area: 6947.0 m^2\n",
      "Total Power Required: 34.0 MW\n",
      "Price of Electricity Required for Electrolyzer in NJ: $32,678,514/yr\n",
      "Annual Profit of Formic Acid: $34,544,566/yr\n",
      "Annual Price of CO2 at $40/ton: $2,402,080/yr\n",
      "Annual Profit of Electrolyzer: $-536,028/yr\n",
      " Base Cost ($/kW)  Installed Cost ($/m^2)  Electrolyzer Capital Cost ($) Payback Period (years)\n",
      "        250                 1,372                    9,531,233                   -17.78        \n",
      "        550                 3,018                   20,968,713                   -39.12        \n",
      "       2640                14,488                  100,649,823                  -187.77        \n"
     ]
    }
   ],
   "source": [
    "#Electrolyzer Assumptions\n",
    "cellvolt=3.5 #in V\n",
    "prodsel=0.94 #85% product selectiviy, assuming this is where purity of product comes into play. Also is the Faradaic efficiency\n",
    "elpm=2 #2 electrons per mole of Formic Acid\n",
    "MWFA=46.03 #molecular weight of FA in g/mol\n",
    "fc=96480 #Faradays Constant in C/mol\n",
    "kgtog=1000 #conversion of kg to g\n",
    "curd=.14 #current density in A/cm^2\n",
    "totcur=((FAmass*kgtog)/MWFA)*elpm*fc/prodsel\n",
    "elecareacalc=(totcur/curd)*(1/(10**4))\n",
    "print(f\"Electrolyzer Area: {elecareacalc:.1f} m^2\")\n",
    "powerneed=(totcur*cellvolt)/(10**6)\n",
    "print(f\"Total Power Required: {powerneed:.1f} MW\")\n",
    "elecreq=0.12*powerneed*1000*8000\n",
    "print(f\"Price of Electricity Required for Electrolyzer in NJ: ${elecreq:,.0f}/yr\")\n",
    "\n",
    "ezrcost={\n",
    "    'Base Cost ($/kW)': [250, 550, 2640], \n",
    "}\n",
    "ezrcost_df=pd.DataFrame(ezrcost)\n",
    "ezrcost_df['Installed Cost ($/m^2)']=ezrcost_df['Base Cost ($/kW)']*cellvolt*curd/1000*(10**4)*1.12\n",
    "ezrcost_df['Electrolyzer Capital Cost ($)']=ezrcost_df['Installed Cost ($/m^2)']*elecareacalc\n",
    "\n",
    "annFA=FAmass*(60*60*8000)/1000 #kg/s * 60s/min*60min/h* 8000h/yr *1ton/1000 kg\n",
    "sellannFA=annFA*550\n",
    "print(f\"Annual Profit of Formic Acid: ${sellannFA:,.0f}/yr\")\n",
    "annCO2=annFA*(44.01/46.03) #tonFA/yr*1000kg/1ton*1kmolFA/46.03kg*1kmolCO2/1kmolFA*44.01kg/1kmolCO2*1ton/1000kg\n",
    "sellannCO2=annCO2*40\n",
    "print(f\"Annual Price of CO2 at $40/ton: ${sellannCO2:,.0f}/yr\")\n",
    "yearprof=sellannFA-elecreq-sellannCO2\n",
    "print(f\"Annual Profit of Electrolyzer: ${yearprof:,.0f}/yr\")\n",
    "\n",
    "ezrcost_df['Payback Period (years)']=(ezrcost_df['Electrolyzer Capital Cost ($)']/yearprof).apply(lambda x: f\"{x:,.2f}\")\n",
    "print(ezrcost_df.to_string(index=False, justify='center'))"
   ]
  },
  {
   "cell_type": "markdown",
   "id": "bdbefe7c-ab4c-4f22-9b4b-1fa68e3465cc",
   "metadata": {},
   "source": [
    "## Using Supp Info from Huang"
   ]
  },
  {
   "cell_type": "code",
   "execution_count": 33,
   "id": "462de469-697c-4053-b2d9-446c7c2f1882",
   "metadata": {
    "jupyter": {
     "source_hidden": true
    }
   },
   "outputs": [
    {
     "name": "stdout",
     "output_type": "stream",
     "text": [
      "Electrolyzer Area: 486.3 m^2\n",
      "Total Power Required: 18.5 MW\n",
      "Price of Electricity Required for Electrolyzer in NJ: $17,739,765/yr\n",
      "Annual Profit of Formic Acid: $34,544,566/yr\n",
      "Annual Price of CO2 at $40/ton: $2,402,080/yr\n",
      "Annual Profit of Electrolyzer: $14,402,721/yr\n",
      " Base Cost ($/kW)  Installed Cost ($/m^2)  Electrolyzer Capital Cost ($) Payback Period (years)\n",
      "        250                10,640                    5,174,098                    0.36         \n",
      "        550                23,408                   11,383,016                    0.79         \n",
      "       2640               112,358                   54,638,475                    3.79         \n"
     ]
    }
   ],
   "source": [
    "#Electrolyzer Assumptions\n",
    "cellvolt=1.9 #in V\n",
    "prodsel=0.94 #85% product selectiviy, assuming this is where purity of product comes into play. Also is the Faradaic efficiency\n",
    "elpm=2 #2 electrons per mole of Formic Acid\n",
    "MWFA=46.03 #molecular weight of FA in g/mol\n",
    "fc=96480 #Faradays Constant in C/mol\n",
    "kgtog=1000 #conversion of kg to g\n",
    "curd=2 #current density in A/cm^2\n",
    "totcur=((FAmass*kgtog)/MWFA)*elpm*fc/prodsel\n",
    "elecareacalc=(totcur/curd)*(1/(10**4))\n",
    "print(f\"Electrolyzer Area: {elecareacalc:.1f} m^2\")\n",
    "powerneed=(totcur*cellvolt)/(10**6)\n",
    "print(f\"Total Power Required: {powerneed:.1f} MW\")\n",
    "elecreq=0.12*powerneed*1000*8000\n",
    "print(f\"Price of Electricity Required for Electrolyzer in NJ: ${elecreq:,.0f}/yr\")\n",
    "\n",
    "ezrcost={\n",
    "    'Base Cost ($/kW)': [250, 550, 2640], \n",
    "}\n",
    "ezrcost_df=pd.DataFrame(ezrcost)\n",
    "ezrcost_df['Installed Cost ($/m^2)']=ezrcost_df['Base Cost ($/kW)']*cellvolt*curd/1000*(10**4)*1.12\n",
    "ezrcost_df['Electrolyzer Capital Cost ($)']=ezrcost_df['Installed Cost ($/m^2)']*elecareacalc\n",
    "\n",
    "annFA=FAmass*(60*60*8000)/1000 #kg/s * 60s/min*60min/h* 8000h/yr *1ton/1000 kg\n",
    "sellannFA=annFA*550\n",
    "print(f\"Annual Profit of Formic Acid: ${sellannFA:,.0f}/yr\")\n",
    "annCO2=annFA*(44.01/46.03) #tonFA/yr*1000kg/1ton*1kmolFA/46.03kg*1kmolCO2/1kmolFA*44.01kg/1kmolCO2*1ton/1000kg\n",
    "sellannCO2=annCO2*40\n",
    "print(f\"Annual Price of CO2 at $40/ton: ${sellannCO2:,.0f}/yr\")\n",
    "yearprof=sellannFA-elecreq-sellannCO2\n",
    "print(f\"Annual Profit of Electrolyzer: ${yearprof:,.0f}/yr\")\n",
    "\n",
    "ezrcost_df['Payback Period (years)']=(ezrcost_df['Electrolyzer Capital Cost ($)']/yearprof).apply(lambda x: f\"{x:,.2f}\")\n",
    "print(ezrcost_df.to_string(index=False, justify='center'))"
   ]
  }
 ],
 "metadata": {
  "kernelspec": {
   "display_name": "Python 3 (ipykernel)",
   "language": "python",
   "name": "python3"
  },
  "language_info": {
   "codemirror_mode": {
    "name": "ipython",
    "version": 3
   },
   "file_extension": ".py",
   "mimetype": "text/x-python",
   "name": "python",
   "nbconvert_exporter": "python",
   "pygments_lexer": "ipython3",
   "version": "3.13.2"
  }
 },
 "nbformat": 4,
 "nbformat_minor": 5
}
