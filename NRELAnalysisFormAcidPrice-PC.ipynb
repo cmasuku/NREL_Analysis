{
 "cells": [
  {
   "cell_type": "markdown",
   "id": "b39e520d-9c43-4e81-a483-0e7ea3c93095",
   "metadata": {},
   "source": [
    "# Imports"
   ]
  },
  {
   "cell_type": "code",
   "execution_count": null,
   "id": "64e067e7-0324-4e85-94c7-c472aa55e4a1",
   "metadata": {},
   "outputs": [],
   "source": [
    "import numpy as np\n",
    "import pandas as pd\n",
    "import matplotlib.pyplot as plt\n",
    "import seaborn as sns\n",
    "import tabulate as tabulate\n",
    "from matplotlib.ticker import FuncFormatter\n",
    "from mpl_toolkits.mplot3d import Axes3D\n",
    "import plotly.express as px\n",
    "from matplotlib.colors import TwoSlopeNorm"
   ]
  },
  {
   "cell_type": "markdown",
   "id": "582e446a-61d0-4038-a941-476095b882e7",
   "metadata": {},
   "source": [
    "# Importing Electricity Data\n",
    "\n",
    "Simplifying electricity data to only look at two regions: Mid-Atlantic (NJ, NY, PA) and West North Central (ND, SD, MN, MO, KS, IA)."
   ]
  },
  {
   "cell_type": "code",
   "execution_count": null,
   "id": "b7ca1a86-c710-4863-b402-bb6e330a5729",
   "metadata": {},
   "outputs": [],
   "source": [
    "elecdf=pd.read_csv(r\"C:\\Users\\tonya\\OneDrive - Rutgers University\\Documents\\Rutgers\\Research\\NRELAnalysis\\Electricity.csv\")\n",
    "\n",
    "elecMAWNC=elecdf[elecdf['Division'].isin(['Mid Atlantic', 'West North Central'])]\n",
    "elecMAWNC=elecMAWNC.drop('Used on Plant (Cent/s)', axis=1)\n",
    "elecMAWNC=elecMAWNC.drop('Total Electriciy (Cent/s)', axis=1)\n",
    "elecMAWNC['Price ($/kWh)']=elecMAWNC['Industrial 2024 (Cent/kWh)']/100"
   ]
  },
  {
   "cell_type": "markdown",
   "id": "cd7ef41b-cbc9-4ebb-8d23-e75e67e299cf",
   "metadata": {},
   "source": [
    "# Chemical Pricing\n",
    "\n",
    "Pricing of Biomass, Ethanol, CO2 and Formic Acid. CO2 is assuming 45Q credit of `$12/ton`. Formic Acid is assuming electrolytic conversion of CO2 from generated electricity on plant. "
   ]
  },
  {
   "cell_type": "code",
   "execution_count": null,
   "id": "b9ce3fb0-7c5b-40ec-acc0-ed8a86826787",
   "metadata": {
    "jupyter": {
     "source_hidden": true
    }
   },
   "outputs": [],
   "source": [
    "chemprice={\n",
    "    'Compound': ['Biomass', 'Ethanol', 'CO2', 'Formic Acid'], \n",
    "    'Price': [46.8, 720, 12, 550], \n",
    "    'Mass Flow (kg/h)': [104167, 21673, 91746, 7848], \n",
    "}\n",
    "chemprice_df=pd.DataFrame(chemprice)\n",
    "chemprice_df['Mass Flow (ton/h)']=chemprice_df['Mass Flow (kg/h)']/1000\n",
    "chemprice_df['Mass Flow (kg/s)']=chemprice_df['Mass Flow (kg/h)']/3600\n",
    "chemprice_df['Cost ($/h)']=chemprice_df['Price']*chemprice_df['Mass Flow (ton/h)']\n",
    "chemprice_df.at[3, 'Cost ($/h)']=chemprice_df.at[3, 'Price']*chemprice_df.at[3, 'Mass Flow (ton/h)']/0.85\n",
    "chemprice_df['Cost ($/s)']=chemprice_df['Cost ($/h)']/3600\n",
    "chemprice_df['Cost (c/s)']=chemprice_df['Cost ($/s)']*100"
   ]
  },
  {
   "cell_type": "markdown",
   "id": "86303550-0bb2-438c-9696-d494d359e42e",
   "metadata": {},
   "source": [
    "# Base NREL Plant\n",
    "\n",
    "Will assume the plant can utilize the 45Q Carbon Credit at $12/ton of CO2."
   ]
  },
  {
   "cell_type": "code",
   "execution_count": null,
   "id": "78142d2b-a1ff-4aa4-b0d7-d4bc8a8f18c5",
   "metadata": {
    "jupyter": {
     "source_hidden": true
    }
   },
   "outputs": [],
   "source": [
    "basecase_df=chemprice_df.loc[[0, 1, 2], ['Compound', 'Cost (c/s)', 'Mass Flow (kg/s)']]\n",
    "basecase_dict=pd.Series(basecase_df['Cost (c/s)'].values, index=basecase_df['Compound']).to_dict()\n",
    "basekgCO2=basecase_df.loc[basecase_df['Compound']=='CO2', 'Mass Flow (kg/s)'].values[0]\n",
    "profits1, profits2 =[], []\n",
    "conv=(60*60*8000)/100\n",
    "for index, row in elecMAWNC.iterrows():\n",
    "    elec_price=row['Sold to Grid (Cent/s)']\n",
    "    cost_bio, cost_eth, cost_CO2=basecase_dict['Biomass'], basecase_dict['Ethanol'], basecase_dict['CO2']\n",
    "    profit1=(cost_eth+elec_price-cost_bio-cost_CO2)*conv\n",
    "    profits1.append({'State': row['State'], 'Revenue with CO2 tax ($/yr)': profit1})\n",
    "    profit2=(cost_eth+elec_price-cost_bio)*conv\n",
    "    profits2.append({'State': row['State'], 'Revenue with no CO2 tax ($/yr)': profit2})\n",
    "\n",
    "df_profits1, df_profits2=pd.DataFrame(profits1), pd.DataFrame(profits2)\n",
    "df_profitmerg=pd.merge(df_profits1, df_profits2, on='State', how='outer')\n",
    "df_profits_sort=df_profitmerg.sort_values(by='Revenue with CO2 tax ($/yr)', ascending=False)\n",
    "\n",
    "max_prof1=df_profits1['Revenue with CO2 tax ($/yr)'].max()\n",
    "max_prof2=df_profits2['Revenue with no CO2 tax ($/yr)'].max()\n",
    "min_prof1=df_profits1['Revenue with CO2 tax ($/yr)'].min()\n",
    "min_prof2=df_profits2['Revenue with no CO2 tax ($/yr)'].min()\n",
    "print(f\"Maximum revenue with CO2 tax: {max_prof1:,.0f} $/yr\")\n",
    "print(f\"Maximum revenue with no CO2 tax: {max_prof2:,.0f} $/yr\")\n",
    "print(f\"Minimum revenue with CO2 tax: {min_prof1:,.0f} $/yr\")\n",
    "print(f\"Minimum revenue with no CO2 tax: {min_prof2:,.0f} $/yr\")\n",
    "\n",
    "mill=1000000\n",
    "bar_w=0.4\n",
    "x=np.arange(len(df_profits_sort))\n",
    "\n",
    "fig, (ax1, ax2) =plt.subplots(1, 2, figsize=(15, 6))\n",
    "ax1.bar(x-bar_w/2, df_profits_sort['Revenue with CO2 tax ($/yr)']/mill, width=bar_w, label='Revenue with CO2 Tax ($/yr)', color='blue')\n",
    "ax1.bar(x+bar_w/2, df_profits_sort['Revenue with no CO2 tax ($/yr)']/mill, width=bar_w, label='Revenue with no CO2 Tax ($/yr)', color='orange')\n",
    "ax1.set_xlabel(\"State\")\n",
    "ax1.set_ylabel(\"Annual Revenue (Million $/yr)\")\n",
    "ax1.set_title(\"Revenue Comparison: With or Without CO2 Tax at $12/ton\")\n",
    "ax1.set_xticks(x)\n",
    "ax1.set_ylim(80, 100)\n",
    "ax1.set_xticklabels(df_profits_sort['State'], rotation=45)\n",
    "ax1.legend(loc=\"best\", bbox_to_anchor=(1,1))\n",
    "\n",
    "NRELCap, NRELOp=152900000, 65900000\n",
    "df_profits_sort[['Yearly Profit with CO2 Tax', 'Yearly Profit no CO2 Tax']]=df_profits_sort[['Revenue with CO2 tax ($/yr)', 'Revenue with no CO2 tax ($/yr)']]-NRELOp\n",
    "df_profits_sort[['Payback Period with CO2 Tax', 'Payback Period no CO2 Tax']]=NRELCap/df_profits_sort[['Yearly Profit with CO2 Tax', 'Yearly Profit no CO2 Tax']]\n",
    "df_profits_sort['Payback Period with CO2 Tax']=df_profits_sort['Payback Period with CO2 Tax'].round(2)\n",
    "df_profits_sort['Payback Period no CO2 Tax']=df_profits_sort['Payback Period no CO2 Tax'].round(2)\n",
    "pd.set_option('display.max_columns', None)\n",
    "pd.set_option('display.float_format', '{:,.2f}'.format)\n",
    "pd.set_option('display.colheader_justify', 'center')\n",
    "# df_profits_sort.to_excel(\"profits_report.xlsx\",index=False)\n",
    "\n",
    "ax2.bar(x-bar_w/2, df_profits_sort['Payback Period with CO2 Tax'], width=bar_w, label='Payback Period with CO2 Tax', color='blue')\n",
    "ax2.bar(x+bar_w/2, df_profits_sort['Payback Period no CO2 Tax'], width=bar_w, label='Payback Period no CO2 Tax', color='orange')\n",
    "ax2.set_xlabel(\"State\")\n",
    "ax2.set_ylabel(\"Payback Periods (years)\")\n",
    "ax2.set_title(\"Payback Period Comparison: With or Without CO2 Tax at $12/ton\")\n",
    "ax2.set_xticks(x)\n",
    "ax2.set_ylim(0, max(df_profits_sort[['Payback Period with CO2 Tax', 'Payback Period no CO2 Tax']].max()*1.1))\n",
    "ax2.set_xticklabels(df_profits_sort['State'], rotation=45)\n",
    "ax2.legend(loc=\"best\", bbox_to_anchor=(1,1))\n",
    "plt.tight_layout\n",
    "plt.show()"
   ]
  },
  {
   "cell_type": "markdown",
   "id": "d000092e-039b-4b2c-801e-b48d98855952",
   "metadata": {},
   "source": [
    "# Co-Production of Formic Acid and Ethanol\n",
    "\n",
    "Looking at utilizing 12.8MW of electricity generated from NREL plant and 90 tons of CO2 produced to generate Formic Acid."
   ]
  },
  {
   "cell_type": "code",
   "execution_count": null,
   "id": "2a96b73d-87b4-4218-9734-608c2d1ac908",
   "metadata": {
    "jupyter": {
     "source_hidden": true
    }
   },
   "outputs": [],
   "source": [
    "FAthermo={\n",
    "    'Compound': ['CO2', 'H2O', 'O2', 'CH2O2'], \n",
    "    'H form': [-393.5, -285.8, 0, -425], \n",
    "    'G form': [-394.4, -237.1, 0, -361.4], \n",
    "}\n",
    "FAtherm_df=pd.DataFrame(FAthermo)\n",
    "FA=FAtherm_df.loc[FAtherm_df['Compound']=='CH2O2']\n",
    "CO2=FAtherm_df.loc[FAtherm_df['Compound']=='CO2']\n",
    "H2O=FAtherm_df.loc[FAtherm_df['Compound']=='H2O']\n",
    "H_rxn=FA['H form'].values[0] - (CO2['H form'].values[0] + H2O['H form'].values[0])\n",
    "G_rxn=FA['G form'].values[0] - (CO2['G form'].values[0] + H2O['G form'].values[0])\n",
    "print(f\"H rxn: {H_rxn:.1f}\")\n",
    "print(f\"G rxn: {G_rxn:.1f}\")\n",
    "\n",
    "genelec=12797\n",
    "FAprod=genelec/G_rxn\n",
    "print(f\"Formic Acid Produced: {FAprod:.1f} mol/s\")\n",
    "\n",
    "PlantCO2= {\n",
    "    'Area': ['Combustor', 'Fermenter'], \n",
    "    'Mass Flow (kg/h)': [73396, 18350], \n",
    "}\n",
    "plantco2_df=pd.DataFrame(PlantCO2)\n",
    "plantco2_df['Mass Flow (kg/s)']=(plantco2_df['Mass Flow (kg/h)']/3600)\n",
    "plantco2_df['Form Mass Flow (kg/s)']=plantco2_df['Mass Flow (kg/s)'].apply(lambda x: f\"{x:.2f}\")\n",
    "plantco2_df['Mole Flow (mol/s)']=(plantco2_df['Mass Flow (kg/s)']/44.01)*1000\n",
    "print(plantco2_df[['Area', 'Mass Flow (kg/h)', 'Form Mass Flow (kg/s)', 'Mole Flow (mol/s)']].to_string(index=False, justify='center'))\n",
    "\n",
    "co2conv={\n",
    "    'Area': ['Combustor', 'Fermenter', 'Overall'], \n",
    "    'CO2 Mole Flow': [463, 116, 463+116],\n",
    "}\n",
    "co2conv_df=pd.DataFrame(co2conv)\n",
    "co2conv_df['CO2 Conversion (%)']=(FAprod/co2conv_df['CO2 Mole Flow'])*100\n",
    "print(co2conv_df.to_string(index=False, justify='center'))\n",
    "\n",
    "remco2=((co2conv_df.loc[co2conv_df['Area']=='Overall', 'CO2 Mole Flow'])-FAprod).values[0]*44.01/1000\n",
    "print(f\"Remaining CO2: {remco2:.2f} kg/s\")\n",
    "\n",
    "FAmass=(FAprod*46.03)/1000 #kg/s\n",
    "priceFA=((chemprice_df.loc[chemprice_df['Compound']=='Formic Acid', 'Price'].values[0])/10)*FAmass/0.85\n",
    "print(f\"Mass of FA Produced: {FAmass:.2f} kg/s\")\n",
    "print(f\"Profit of FA Produced: {priceFA:.2f} cent/s\")\n",
    "\n",
    "maxprofitnt=priceFA+(chemprice_df.loc[chemprice_df['Compound']=='Ethanol', 'Cost (c/s)'].values[0])-(chemprice_df.loc[chemprice_df['Compound']=='Biomass', 'Cost (c/s)'].values[0])\n",
    "maxprofitwt=maxprofitnt-(((chemprice_df.loc[chemprice_df['Compound']=='CO2', 'Price'].values[0])/10)*remco2)\n",
    "print(f\"Max Product Profit of Co-Production No CO2 Tax: ${maxprofitnt*(3600*8000/100):,.0f}/yr\")\n",
    "print(f\"Max Product Profit of Co-Production With CO2 Tax: ${maxprofitwt*(3600*8000/100):,.0f}/yr\")"
   ]
  },
  {
   "cell_type": "code",
   "execution_count": null,
   "id": "5e600ade-81b6-40d5-924d-4d378512296b",
   "metadata": {
    "jupyter": {
     "source_hidden": true
    }
   },
   "outputs": [],
   "source": [
    "minrevnt=df_profitmerg['Revenue with no CO2 tax ($/yr)'].min()\n",
    "maxrevnt=df_profitmerg['Revenue with no CO2 tax ($/yr)'].max()\n",
    "minrevwt=df_profitmerg['Revenue with CO2 tax ($/yr)'].min()\n",
    "maxrevwt=df_profitmerg['Revenue with CO2 tax ($/yr)'].max()\n",
    "\n",
    "maxprofwt=maxprofitwt*3600*8000/100\n",
    "maxprofnt=maxprofitnt*3600*8000/100\n",
    "maxincwt=maxprofwt-maxrevwt\n",
    "increase={\n",
    "    'Profit Type': ['With CO2 Tax', 'No CO2 Tax'], \n",
    "    'Maximum Increase': [maxprofwt-minrevwt, maxprofnt-minrevnt], \n",
    "    'Minimum Increase': [maxprofwt-maxrevwt, maxprofnt-maxrevnt],\n",
    "}\n",
    "inc_df=pd.DataFrame(increase)\n",
    "print(inc_df.to_string(index=False, justify='center'))\n",
    "\n",
    "perincrease={\n",
    "    'Profit Type': ['With CO2 Tax', 'No CO2 Tax'], \n",
    "    'Maximum Increase': [((maxprofwt-minrevwt)/minrevwt)*100, ((maxprofnt-minrevnt)/minrevnt)*100], \n",
    "    'Minimum Increase': [((maxprofwt-maxrevwt)/maxrevwt)*100, ((maxprofnt-maxrevnt)/maxrevnt)*100],\n",
    "}\n",
    "perinc_df=pd.DataFrame(perincrease)\n",
    "print(perinc_df.to_string(index=False, justify='center'))"
   ]
  },
  {
   "cell_type": "markdown",
   "id": "2ad32fae-efe3-4459-926c-e3d00a6d706b",
   "metadata": {},
   "source": [
    "# Full Production of Formic Acid from CO2\n",
    "\n",
    "Lets assume we disregard ethanol entirely. Instead, lets fully convert biomass into CO2 and then fully into Formic Acid. We will assume the 12.8MW of electricity generated is still fully used and will calculate the remaining electricity required."
   ]
  },
  {
   "cell_type": "code",
   "execution_count": null,
   "id": "9cbd05ef-b176-416c-98a5-36b3a079bb72",
   "metadata": {
    "jupyter": {
     "source_hidden": true
    }
   },
   "outputs": [],
   "source": [
    "stoy=60*60*8000\n",
    "massflowbio=28.9 #kg/s\n",
    "mwbio=162.52 #kg/kmol\n",
    "pricebio=(massflowbio/1000)*46.8*stoy #$/yr\n",
    "molebio=massflowbio/mwbio #kmol/s\n",
    "moleflowco2=molebio*6 #can produce 6 moles of CO2 from one mole of biomass\n",
    "print(f\"Biomass Cost: ${pricebio:,.0f}/yr\")\n",
    "\n",
    "FAprodkmol=FAprod/1000 #kmol/s\n",
    "flowco2rem=moleflowco2-FAprodkmol #kmol/s\n",
    "reqelectricity=(flowco2rem*1000)*G_rxn #kW\n",
    "remFA=flowco2rem*46.03 #kg/s\n",
    "\n",
    "totFA=(remFA+FAmass)/1000 #ton/s\n",
    "totFAprice=(550*totFA*stoy)/0.85 #$/yr\n",
    "print(f\"Formic Acid Sales: ${totFAprice:,.0f}/yr\")\n",
    "\n",
    "elecMAWNC_FA=elecMAWNC.drop('Sold to Grid (Cent/s)', axis=1)\n",
    "elecMAWNC_FA['Electricity Cost ($/yr)']=(elecMAWNC_FA['Industrial 2024 (Cent/kWh)']*reqelectricity*stoy)/(100*3600)\n",
    "elecMAWNC_FA['Plant Profit ($/yr)']=totFAprice-elecMAWNC_FA['Electricity Cost ($/yr)']-pricebio\n",
    "print(elecMAWNC_FA.to_string(index=False, justify='center'))"
   ]
  },
  {
   "cell_type": "markdown",
   "id": "1ab818a1-7e73-4e3b-acc8-ac04a42fbb66",
   "metadata": {},
   "source": [
    "While full production of Formic Acid is the most profitable, this is 150% of the global Formic Acid market. Therefore, will not move forward with this."
   ]
  },
  {
   "cell_type": "markdown",
   "id": "6528044c-2f2d-4f44-adbb-9530ac75323e",
   "metadata": {},
   "source": [
    "# Electrolyzer Capital Costs\n",
    "\n",
    "Since we know the product profitability of co-production, lets examine the capital costs associated with an electrolyzer so we can do a more complete cost analysis. "
   ]
  },
  {
   "cell_type": "markdown",
   "id": "89b10706-738a-4665-b39e-8a3c0eadb583",
   "metadata": {},
   "source": [
    "To start, lets assume we have a stand-alone electrolyzer that produces the co-production amount of Formic Acid. We can also assume that CO2 will not be free in this case."
   ]
  },
  {
   "cell_type": "code",
   "execution_count": null,
   "id": "e716b893-cb26-4513-a471-3e1ff76749be",
   "metadata": {},
   "outputs": [],
   "source": [
    "refEV=1.75 #Reference electrolyzer voltage in V\n",
    "refCD=175 #Reference electrolyzer current density in mA/cm^2\n",
    "FApd=FAmass*86400 #kg/s * 60 s/min * 60 min/h * 24 h/day\n",
    "print(f\"Mass of FA Produced: {FApd:,.0f} kg/day\")\n",
    "\n",
    "#Electrolyzer Assumptions\n",
    "cellvolt=3.5 #in V\n",
    "prodsel=0.94 #85% product selectiviy, assuming this is where purity of product comes into play. Also is the Faradaic efficiency\n",
    "elpm=2 #2 electrons per mole of Formic Acid\n",
    "MWFA=46.03 #molecular weight of FA in g/mol\n",
    "fc=96480 #Faradays Constant in C/mol\n",
    "kgtog=1000 #conversion of kg to g\n",
    "curd=3 #current density in A/cm^2\n",
    "totcur=((FAmass*kgtog)/MWFA)*elpm*fc/prodsel\n",
    "elecareacalc=totcur/curd/(10**4)\n",
    "print(f\"Electrolyzer Area: {elecareacalc:.1f} m^2\")\n",
    "powerneed=(totcur*cellvolt)/(10**6)\n",
    "print(f\"Total Power Required: {powerneed:.1f} MW\")\n",
    "# realpow=powerneed-(genelec/1000)\n",
    "realpow=powerneed\n",
    "print(f\"Power required after utilizing generated power: {realpow:.1f} MW\")\n",
    "elecreq=0.12*realpow*1000*8000\n",
    "print(f\"Price of Electricity Required for Electrolyzer in NJ: ${elecreq:,.0f}/yr\")"
   ]
  },
  {
   "cell_type": "code",
   "execution_count": null,
   "id": "1f0f501a-c6e3-46b4-b013-b66e8ff38395",
   "metadata": {},
   "outputs": [],
   "source": [
    "ezrcost={\n",
    "    'Base Cost ($/kW)': [250, 550, 2640], \n",
    "}\n",
    "ezrcost_df=pd.DataFrame(ezrcost)\n",
    "ezrcost_df['Installed Cost ($/m^2)']=ezrcost_df['Base Cost ($/kW)']*cellvolt*curd/1000*(10**4)*1.2\n",
    "ezrcost_df['Electrolyzer Capital Cost ($)']=ezrcost_df['Installed Cost ($/m^2)']*elecareacalc\n",
    "\n",
    "annFA=FApd*(8000/24)/1000 #kg/day * 1day/24h* 8000h/yr *1ton/1000 kg\n",
    "sellannFA=annFA*550\n",
    "print(f\"Annual Profit of Formic Acid: ${sellannFA:,.0f}/yr\")\n",
    "annCO2=annFA*(44.01/46.03) #tonFA/yr*1000kg/1ton*1kmolFA/46.03kg*1kmolCO2/1kmolFA*44.01kg/1kmolCO2*1ton/1000kg\n",
    "sellannCO2=annCO2*40\n",
    "print(f\"Annual Price of CO2 at $40/ton: ${sellannCO2:,.0f}/yr\")\n",
    "yearprof=sellannFA-elecreq-sellannCO2\n",
    "print(f\"Annual Profit of Electrolyzer: ${yearprof:,.0f}/yr\")\n",
    "\n",
    "ezrcost_df['Payback Period (years)']=ezrcost_df['Electrolyzer Capital Cost ($)']/yearprof\n",
    "print(ezrcost_df.to_string(index=False, justify='center'))"
   ]
  },
  {
   "cell_type": "markdown",
   "id": "12b6cdcd-493f-4c9d-a8e6-1e8c8e6de585",
   "metadata": {},
   "source": [
    "A standalone electrolyzer in New Jersey producing 188 tons of Formic Acid per day at `$550/ton` can pay back its capital cost between 0.15 and 1.58 years, depending on the base cost of the electrolyzer. This also assumes CO2 is bought directly at a price of `$12/ton`. Biomass was not converted to CO2 in this scenario."
   ]
  },
  {
   "cell_type": "markdown",
   "id": "b500f9e6-71ea-4927-b72c-0943b2ee3f53",
   "metadata": {},
   "source": [
    "We have a range of capital costs for an electrolyzer of CO2 to Formic Acid, lets see how the payback period of the NREL plant compares to the co-production plant."
   ]
  },
  {
   "cell_type": "code",
   "execution_count": null,
   "id": "8a51d319-fe20-4495-a739-52bfd6ac4afc",
   "metadata": {},
   "outputs": [],
   "source": [
    "print(f\"Max Product Profit of Co-Production No CO2 Tax: ${maxprofitnt*(3600*8000/100):,.0f}/yr\")\n",
    "print(f\"Max Product Profit of Co-Production With CO2 Tax: ${maxprofitwt*(3600*8000/100):,.0f}/yr\")\n",
    "elecreq=0.1198*realpow*1000*8000\n",
    "print(f\"Price of Electricity Required for Electrolyzer in NJ: ${elecreq:,.0f}/yr\")\n",
    "NRELCap, NRELOp=152900000, 65900000\n",
    "\n",
    "\n",
    "capcost_df=ezrcost_df.drop(columns=['Installed Cost ($/m^2)', 'Payback Period (years)'])\n",
    "capcost_df['Co-Production Capital Cost ($)']=capcost_df['Electrolyzer Capital Cost ($)']+NRELCap\n",
    "capcost_df['With CO2 Tax Payback Period (years)']=capcost_df['Co-Production Capital Cost ($)']/((maxprofitwt*(3600*8000/100))-elecreq-NRELOp)\n",
    "capcost_df['No CO2 Tax Payback Period (years)']=capcost_df['Co-Production Capital Cost ($)']/((maxprofitnt*(3600*8000/100))-elecreq-NRELOp)\n",
    "print(capcost_df.to_string(index=False))"
   ]
  },
  {
   "cell_type": "code",
   "execution_count": null,
   "id": "1193d3b4-a43b-40aa-857f-b2356c47e20e",
   "metadata": {
    "jp-MarkdownHeadingCollapsed": true
   },
   "outputs": [],
   "source": [
    "elecMAWNC_FANREL=elecMAWNC_FA.drop(columns=['Electricity Cost ($/yr)', 'Plant Profit ($/yr)'])\n",
    "elecMAWNC_FANREL['Industrial 2024 ($/kWh)']=elecMAWNC_FANREL['Industrial 2024 (Cent/kWh)']/100\n",
    "elecMAWNC_FANREL=elecMAWNC_FANREL.drop('Industrial 2024 (Cent/kWh)', axis=1)\n",
    "elecMAWNC_FANREL['Electricity Required ($/yr)']=elecMAWNC_FANREL['Industrial 2024 ($/kWh)']*realpow*1000*8000\n",
    "\n",
    "base_elcost=[250, 550, 2640]\n",
    "capital_costs={cost: capcost_df.loc[capcost_df['Base Cost ($/kW)']==cost, 'Co-Production Capital Cost ($)'].values[0]\n",
    "               for cost in base_elcost}\n",
    "\n",
    "for cost in base_elcost:\n",
    "    coprodcap=capital_costs[cost]\n",
    "    elecMAWNC_FANREL[f'${cost} Plant Profit with Tax ($/yr)']=(maxprofitwt*(3600*8000/100))-elecMAWNC_FANREL['Electricity Required ($/yr)']-NRELOp\n",
    "    elecMAWNC_FANREL[f'${cost} Plant Profit No Tax ($/yr)']=(maxprofitnt*(3600*8000/100))-elecMAWNC_FANREL['Electricity Required ($/yr)']-NRELOp\n",
    "    elecMAWNC_FANREL[f'${cost} Payback Period with Tax (years)']=coprodcap/elecMAWNC_FANREL[f'${cost} Plant Profit with Tax ($/yr)']\n",
    "    elecMAWNC_FANREL[f'${cost} Payback Period No Tax (years)']=coprodcap/elecMAWNC_FANREL[f'${cost} Plant Profit No Tax ($/yr)']"
   ]
  },
  {
   "cell_type": "code",
   "execution_count": null,
   "id": "f650d5da-a4d7-4e6d-b874-bb6705c622f8",
   "metadata": {},
   "outputs": [],
   "source": [
    "bc_dataframes={}\n",
    "\n",
    "for cost in base_elcost:\n",
    "    bc_dataframes[cost]=elecMAWNC_FANREL[['State', f'${cost} Plant Profit with Tax ($/yr)', f'${cost} Plant Profit No Tax ($/yr)']].copy()\n",
    "    bc_dataframes[cost].loc[:, f'${cost} Payback Period with Tax (years)']=capital_costs[cost]/bc_dataframes[cost][f'${cost} Plant Profit with Tax ($/yr)']\n",
    "    bc_dataframes[cost].loc[:, f'${cost} Payback Period No Tax (years)']=capital_costs[cost]/bc_dataframes[cost][f'${cost} Plant Profit No Tax ($/yr)']\n",
    "plantprofmerg=bc_dataframes[250].merge(bc_dataframes[550], on='State', how='outer').merge(bc_dataframes[2640], on='State', how='outer')\n",
    "\n",
    "bc250maxwt=bc_dataframes[250]['$250 Plant Profit with Tax ($/yr)'].max()\n",
    "bc250maxnt=bc_dataframes[250]['$250 Plant Profit No Tax ($/yr)'].max()\n",
    "\n",
    "bc250minwt=bc_dataframes[250]['$250 Plant Profit with Tax ($/yr)'].min()\n",
    "bc250minnt=bc_dataframes[250]['$250 Plant Profit No Tax ($/yr)'].min()"
   ]
  },
  {
   "cell_type": "code",
   "execution_count": null,
   "id": "01001ad6-422f-4e0f-a421-523c5c990fd5",
   "metadata": {},
   "outputs": [],
   "source": [
    "maxprof1per=(max_prof1-bc250maxwt)/max_prof1*100\n",
    "maxprof2per=(max_prof2-bc250maxnt)/max_prof2*100\n",
    "minprof1per=(min_prof1-bc250minwt)/min_prof1*100\n",
    "minprof2per=(min_prof2-bc250minnt)/min_prof2*100\n",
    "\n",
    "proftab={\n",
    "    'Status': ['With Tax', 'No Tax'], \n",
    "    'Base Case Max Profit': [max_prof1, max_prof2], \n",
    "    'Base Case Min Profit': [min_prof1, min_prof2],\n",
    "    'Electrolyzer Max Profit': [bc250maxwt, bc250maxnt], \n",
    "    'Electrolyzer Min Profit': [bc250minwt, bc250minnt], \n",
    "    'Max Percent': [100-maxprof1per, 100-maxprof2per], \n",
    "    'Min Percent': [100-minprof1per, 100-minprof2per],\n",
    "}\n",
    "\n",
    "proftab=pd.DataFrame(proftab)\n",
    "print(proftab.to_string(index=False, justify='center'))"
   ]
  },
  {
   "cell_type": "code",
   "execution_count": null,
   "id": "ae948b98-ff08-4f14-bd5d-52b3f6aaa9d8",
   "metadata": {},
   "outputs": [],
   "source": [
    "states=bc_dataframes[250]['State'].tolist()\n",
    "x=np.arange(len(states))\n",
    "width=0.4\n",
    "fig, ax5=plt.subplots(1,1)\n",
    "bars1=ax5.bar(x-width/2, bc_dataframes[250]['$250 Plant Profit with Tax ($/yr)']/mill, width, label='Profit with Tax')\n",
    "bars2=ax5.bar(x+width/2, bc_dataframes[250]['$250 Plant Profit No Tax ($/yr)']/mill, width, label='Profit No Tax')\n",
    "ax5.set_xlabel(\"State\")\n",
    "ax5.set_ylabel(\"Plant Profit ($Million/yr)\")\n",
    "ax5.set_title(\"Plant Profits\")\n",
    "ax5.set_xticks(x)\n",
    "ax5.set_xticklabels(states, rotation=45)\n",
    "ax5.legend(loc=\"best\", bbox_to_anchor=(1,1))"
   ]
  },
  {
   "cell_type": "code",
   "execution_count": null,
   "id": "956e2dbf-8026-48fc-8312-f9722538d258",
   "metadata": {},
   "outputs": [],
   "source": [
    "payback_col={\n",
    "    250: ['$250 Payback Period with Tax (years)', '$250 Payback Period No Tax (years)'], \n",
    "    550: ['$550 Payback Period with Tax (years)', '$550 Payback Period No Tax (years)'], \n",
    "    2640: ['$2640 Payback Period with Tax (years)', '$2640 Payback Period No Tax (years)']\n",
    "}\n",
    "states=bc_dataframes[250]['State'].tolist()\n",
    "x=np.arange(len(states))\n",
    "width=0.15\n",
    "fig, ax6=plt.subplots(1,1)\n",
    "offsets=[-2, -1, 0, 1, 2, 3]\n",
    "for i, (cost, cols) in enumerate(payback_col.items()):\n",
    "    ax6.bar(x+offsets[2*i]*width, bc_dataframes[cost][cols[0]], width, label=f'{cost} Payback with Tax')\n",
    "    ax6.bar(x+offsets[2*i+1]*width, bc_dataframes[cost][cols[1]], width, label=f'{cost} Payback No Tax')\n",
    "ax6.set_xlabel(\"State\")\n",
    "ax6.set_ylabel(\"Payback Period (years)\")\n",
    "ax6.set_title(\"Payback Period Comp\")\n",
    "ax6.set_xticks(x)\n",
    "ax6.set_xticklabels(states, rotation=45)\n",
    "ax6.legend(loc=\"best\", bbox_to_anchor=(1,1))\n",
    "plt.show()"
   ]
  },
  {
   "cell_type": "markdown",
   "id": "ed531dc7-1e48-4459-abca-a183df11dad8",
   "metadata": {},
   "source": [
    "# Formic Acid Production\n",
    "\n",
    "Looking at a separate facility to produce Formic Acid from CO2 by varying the input flowrate of CO2 and determining its impact on Formic Acid production, Electricity required and the price of that amount of CO2. Will then determine the annual product profit of the plant."
   ]
  },
  {
   "cell_type": "markdown",
   "id": "d28a02dd-f975-4e95-b3c3-a9ae3cf61a9f",
   "metadata": {},
   "source": [
    "Starting with a plant in New Jersey where CO2 costs `$100/ton`. "
   ]
  },
  {
   "cell_type": "code",
   "execution_count": null,
   "id": "0bb5b5c6-0f42-418b-924d-7a7b24c21736",
   "metadata": {
    "scrolled": true
   },
   "outputs": [],
   "source": [
    "FAchem={\n",
    "    'Compound': ['Biomass', 'Formic Acid', 'CO2'], \n",
    "    'Price ($/ton)': [46.8, 550, 100], \n",
    "}\n",
    "FA_df=pd.DataFrame(FAchem)\n",
    "CO2flow=list(range(5, 101, 5))\n",
    "GEFA=270.1\n",
    "yearh=8000\n",
    "MWCO2=44.01\n",
    "tong=(1e-6)\n",
    "NJprice=0.1198\n",
    "FAprice=FA_df.loc[FA_df['Compound']=='Formic Acid', 'Price ($/ton)'].values[0]\n",
    "CO2price=FA_df.loc[FA_df['Compound']=='CO2', 'Price ($/ton)'].values[0]\n",
    "\n",
    "df_CO2flow=pd.DataFrame({'CO2 Flow Rate (mol/s)': CO2flow})\n",
    "df_CO2flow['FA Selling Price']=df_CO2flow['CO2 Flow Rate (mol/s)']*FAprice*MWFA*tong\n",
    "df_CO2flow['Cost of Electric']=df_CO2flow['CO2 Flow Rate (mol/s)']*NJprice*GEFA/3600\n",
    "df_CO2flow['Cost of CO2']=df_CO2flow['CO2 Flow Rate (mol/s)']*CO2price*MWCO2*tong\n",
    "df_CO2flow['Annual Product Profit C']=(df_CO2flow['FA Selling Price']-df_CO2flow['Cost of Electric']-df_CO2flow['Cost of CO2'])*60*60*yearh\n",
    "\n",
    "df_CO2flow=df_CO2flow.round({'FA Selling Price':2, 'Cost of Electric': 2, 'Cost of CO2': 2})\n",
    "df_CO2flow['Annual Product Profit']=df_CO2flow['Annual Product Profit C'].map('{:,.0f}'.format)\n",
    "print(df_CO2flow.drop(['Annual Product Profit C'], axis=1).to_string(index=False, justify='center'))"
   ]
  },
  {
   "cell_type": "code",
   "execution_count": null,
   "id": "deaaa7ba-aafd-4c19-bb3d-78e27dc63a10",
   "metadata": {},
   "outputs": [],
   "source": [
    "BCtoICconv=refEV*refCD/1000/1000*(10**4)*1.2\n",
    "\n",
    "newFAconv=df_CO2flow.copy()\n",
    "newFAconv['FA Mass Flow (kg/s) C']=newFAconv['CO2 Flow Rate (mol/s)']*MWFA/1000\n",
    "newFAconv['FA Mass Flow (kg/day) C']=newFAconv['FA Mass Flow (kg/s) C']*60*60*24\n",
    "newFAconv['FA Mass Flow (kg/s)']=newFAconv['FA Mass Flow (kg/s) C'].apply(lambda x: f\"{x:.2f}\")\n",
    "newFAconv['FA Mass Flow (kg/day)']=newFAconv['FA Mass Flow (kg/day) C'].apply(lambda x: f\"{x:,.0f}\")\n",
    "newFAconv['Total Current (A)']=((newFAconv['FA Mass Flow (kg/s) C']*kgtog)/MWFA)*elpm*fc/prodsel\n",
    "newFAconv['Electrolyzer Area (m^2)']=newFAconv['Total Current (A)']/curd/(10**4)\n",
    "newFAconv['Power Needed (MW)']=(newFAconv['Total Current (A)']*cellvolt)/(10**6)\n",
    "newFAconv['BC $250 Cap Cost']=250*BCtoICconv*newFAconv['Electrolyzer Area (m^2)']\n",
    "newFAconv['BC $550 Cap Cost']=550*BCtoICconv*newFAconv['Electrolyzer Area (m^2)']\n",
    "newFAconv['BC $2640 Cap Cost']=2640*BCtoICconv*newFAconv['Electrolyzer Area (m^2)']\n",
    "print(newFAconv[['CO2 Flow Rate (mol/s)', 'FA Mass Flow (kg/day)', 'Electrolyzer Area (m^2)']])\n",
    "print(newFAconv[['BC $250 Cap Cost', 'BC $550 Cap Cost', 'BC $2640 Cap Cost']])"
   ]
  },
  {
   "cell_type": "code",
   "execution_count": null,
   "id": "cca88196-c53b-4ab2-856c-91f22fdf425c",
   "metadata": {
    "jupyter": {
     "source_hidden": true
    }
   },
   "outputs": [],
   "source": [
    "plt.figure(figsize=(8,5))\n",
    "plt.plot(newFAconv['CO2 Flow Rate (mol/s)'], newFAconv['BC $250 Cap Cost']/mill, marker='o', label=\"Base Cost $250\")\n",
    "plt.plot(newFAconv['CO2 Flow Rate (mol/s)'], newFAconv['BC $550 Cap Cost']/mill, marker='s', label=\"Base Cost $550\")\n",
    "plt.plot(newFAconv['CO2 Flow Rate (mol/s)'], newFAconv['BC $2640 Cap Cost']/mill, marker='^', label=\"Base Cost $2640\")\n",
    "plt.xlabel(\"CO2 Flow Rate (mol/s)\")\n",
    "plt.ylabel(\"Electrolyzer Capital Cost (Million $)\")\n",
    "plt.title(\"CO2 Flow Rate vs Electrolyzer Capital Cost\")\n",
    "plt.grid(True, linestyle='--', alpha=0.6)\n",
    "plt.legend()\n",
    "plt.show()"
   ]
  },
  {
   "cell_type": "code",
   "execution_count": null,
   "id": "e2cc6227-bbf7-4a07-84a0-21d2691e6ca9",
   "metadata": {},
   "outputs": [],
   "source": [
    "co2_price_range=np.linspace(-100, 100, 9).round(0)\n",
    "electricity_price_range=dict(zip(elecMAWNC['State'], elecMAWNC['Price ($/kWh)']))\n",
    "df_CO2flow[['FA Selling Price', 'Cost of Electric', 'Cost of CO2']]=df_CO2flow[['FA Selling Price', 'Cost of Electric', 'Cost of CO2']].astype(float)\n",
    "results=[]\n",
    "\n",
    "for co2_price in co2_price_range:\n",
    "    for state, electricity_price in electricity_price_range.items():\n",
    "        profit=(df_CO2flow['FA Selling Price']-\n",
    "                (df_CO2flow['CO2 Flow Rate (mol/s)']*electricity_price*GEFA/3600)-\n",
    "                (df_CO2flow['CO2 Flow Rate (mol/s)']*co2_price*MWCO2*tong)\n",
    "               )*60*60*yearh/mill\n",
    "        for index, p in enumerate(profit):\n",
    "            results.append({\n",
    "                'CO2 Flow Rate (mol/s)': df_CO2flow['CO2 Flow Rate (mol/s)'][index],\n",
    "                'CO2 Price': co2_price, \n",
    "                'Electricity Price C': electricity_price,\n",
    "                'State': state,\n",
    "                'Profit ($ Million)': p\n",
    "            })\n",
    "\n",
    "df_results=pd.DataFrame(results)\n",
    "df_results[\"Electricity Price\"]=df_results[\"Electricity Price C\"].map(lambda x: f\"{x:.2f}\")\n",
    "columns=['CO2 Flow Rate (mol/s)', 'CO2 Price', 'Electricity Price', 'State', 'Profit ($ Million)']\n",
    "df_results=df_results[columns]\n",
    "print(df_results)\n",
    "df_filt=df_results.loc[(df_results[\"CO2 Flow Rate (mol/s)\"]==100) & (df_results[\"CO2 Price\"]==100)]\n",
    "print(df_filt)"
   ]
  },
  {
   "cell_type": "code",
   "execution_count": null,
   "id": "cc716c8d-8f64-423a-9780-4a929788f52d",
   "metadata": {},
   "outputs": [],
   "source": [
    "ppelecres=df_results.merge(\n",
    "    newFAconv[['CO2 Flow Rate (mol/s)', 'BC $250 Cap Cost', 'BC $550 Cap Cost', 'BC $2640 Cap Cost']], \n",
    "    on='CO2 Flow Rate (mol/s)',\n",
    "    how='left'\n",
    ")\n",
    "prof_dol=ppelecres['Profit ($ Million)']*1e6\n",
    "for cost in ['250', '550', '2640']:\n",
    "    ppelecres[f'Payback ${cost} BC']=ppelecres[f'BC ${cost} Cap Cost']/prof_dol\n",
    "\n",
    "ppfilt=ppelecres.query(\"State=='New Jersey'\")\n",
    "ppelecres['Profit ($ Million)'].agg(['min', 'max'])\n",
    "# print(ppfilt)"
   ]
  },
  {
   "cell_type": "markdown",
   "id": "064f504e-d386-4d28-b727-453cbf7b7b1e",
   "metadata": {},
   "source": [
    "## Heatmap of CO2 Price, Electricity Price and Annual Profit of Plant"
   ]
  },
  {
   "cell_type": "code",
   "execution_count": null,
   "id": "87b4d760-6be0-4b7d-9446-5ba55aee9102",
   "metadata": {},
   "outputs": [],
   "source": [
    "df_pivot=df_results.pivot_table(index='CO2 Price', columns='Electricity Price', values='Profit ($ Million)')\n",
    "df_pivot=df_pivot.sort_index().sort_index(axis=1)\n",
    "df_pivot.index=df_pivot.index.astype(float)\n",
    "df_pivot.columns=df_pivot.columns.astype(float)\n",
    "fig, ax = plt.subplots()\n",
    "sns.heatmap(df_pivot, annot=False, cmap='coolwarm', cbar_kws={'label': 'Annual Profit ($ Million)'}, ax=ax)\n",
    "yticklabels=ax.get_yticklabels()\n",
    "yticklabels=[label.get_text() for label in yticklabels]\n",
    "yticklabels=[str(int(float(label))) for label in yticklabels]\n",
    "ax.set_yticklabels(yticklabels)\n",
    "plt.show()"
   ]
  },
  {
   "cell_type": "markdown",
   "id": "ffa76358-c8f6-4a10-a645-f83b86d4017b",
   "metadata": {},
   "source": [
    "## 3D Scatter Plot of CO2 Flow Rate/Price and Profit"
   ]
  },
  {
   "cell_type": "code",
   "execution_count": null,
   "id": "ae012bc1-1b83-4911-a58b-491f84e6cfa9",
   "metadata": {},
   "outputs": [],
   "source": [
    "fig=plt.figure(figsize=(10, 8))\n",
    "ax=fig.add_subplot(111, projection=\"3d\")\n",
    "\n",
    "X=df_results[\"CO2 Flow Rate (mol/s)\"]\n",
    "Y=df_results[\"CO2 Price\"]\n",
    "Z=df_results[\"Profit ($ Million)\"]\n",
    "\n",
    "ax.scatter(X, Y, Z, c=Z, cmap='coolwarm', marker='o')\n",
    "ax.set_xlabel(\"CO2 Flow Rate (mol/s)\")\n",
    "ax.set_ylabel(\"CO2 Price\")\n",
    "ax.set_zlabel(\"Profit ($)\", fontsize=10, labelpad=5)\n",
    "ax.set_title(\"3D Vis of Profit vs CO2 Flow Rate and Price\")\n",
    "ax.set_zlim(min(Z), max(Z))\n",
    "ax.view_init(elev=25, azim=125)\n",
    "plt.show()\n",
    "\n",
    "# plt.figure(figsize=(10, 7))\n",
    "# for flow_rate in df_results[\"CO2 Flow Rate (mol/s)\"].unique():\n",
    "#     subset=df_results[df_results[\"CO2 Flow Rate (mol/s)\"]==flow_rate]\n",
    "#     plt.plot(subset[\"CO2 Price\"], subset[\"Profit ($ Million)\"], label=f\"Flow Rate = {flow_rate} mol/s\")\n",
    "# plt.xlabel(\"CO2 Price ($/ton)\")\n",
    "# plt.ylabel(\"Profit ($)\")\n",
    "# plt.title(\"Impact of CO2 Price on Profit for Different CO2 Flow Rates\")\n",
    "# plt.legend(loc=\"upper left\", bbox_to_anchor=(1,1))\n",
    "# plt.grid(True)\n",
    "# plt.show()"
   ]
  },
  {
   "cell_type": "markdown",
   "id": "ec61af8e-5114-4823-b1c1-ff3ff407287f",
   "metadata": {},
   "source": [
    "## Heatmap of CO2 Price, Formic Acid Price and Plant Profit"
   ]
  },
  {
   "cell_type": "code",
   "execution_count": null,
   "id": "776de8f4-6988-4976-aadb-0a02b52fbca6",
   "metadata": {},
   "outputs": [],
   "source": [
    "FA_price_range=np.arange(0, 1000, 100)\n",
    "\n",
    "df_CO2flow[['FA Selling Price', 'Cost of Electric', 'Cost of CO2']]=df_CO2flow[['FA Selling Price', 'Cost of Electric', 'Cost of CO2']].astype(float)\n",
    "resultsFA=[]\n",
    "co2_flow=df_CO2flow['CO2 Flow Rate (mol/s)']\n",
    "FA_factor=MWFA*tong\n",
    "elec_factor=GEFA/3600\n",
    "co2_factor=MWCO2*tong\n",
    "\n",
    "for co2_price in co2_price_range:\n",
    "    for state, electricity_price in electricity_price_range.items():\n",
    "        for FA_price in FA_price_range:\n",
    "            profit=((co2_flow*FA_price*FA_factor)-\n",
    "                (co2_flow*electricity_price*elec_factor)-\n",
    "                (co2_flow*co2_price*co2_factor)\n",
    "                   )*60*60*yearh/mill\n",
    "            for index, p in enumerate(profit):\n",
    "                resultsFA.append({\n",
    "                    'CO2 Flow Rate (mol/s)': co2_flow[index],\n",
    "                    'CO2 Price': co2_price, \n",
    "                    'Electricity Price C': electricity_price,\n",
    "                    'Formic Acid Price C': FA_price,\n",
    "                    'State': state,\n",
    "                    'Profit ($ Million)': p\n",
    "            })\n",
    "df_resultsFA=pd.DataFrame(resultsFA)\n",
    "df_resultsFA[\"Electricity Price\"]=df_resultsFA[\"Electricity Price C\"].map(lambda x: f\"{x:.2f}\")\n",
    "df_resultsFA[\"Formic Acid Price\"]=df_resultsFA[\"Formic Acid Price C\"].map(lambda x: f\"{x:.0f}\")\n",
    "\n",
    "columns=['CO2 Flow Rate (mol/s)', 'CO2 Price', 'Formic Acid Price', 'Electricity Price', 'State', 'Profit ($ Million)']\n",
    "df_resultsFA=df_resultsFA[columns]\n",
    "\n",
    "pivot_FA=df_resultsFA.pivot_table(\n",
    "    index='CO2 Price',\n",
    "    columns='Formic Acid Price', \n",
    "    values='Profit ($ Million)',\n",
    "    aggfunc='mean'\n",
    ")\n",
    "\n",
    "plt.figure(figsize=(8, 5))\n",
    "norm=TwoSlopeNorm(vmin=pivot_FA.min().min(), vcenter=0, vmax=pivot_FA.max().max())\n",
    "sns.heatmap(pivot_FA, cmap='coolwarm', annot=True, cbar_kws={'label': 'Profit ($ Million)'})\n",
    "\n",
    "# for state in df_resultsFA['State'].unique():\n",
    "#     state_data=df_resultsFA[df_resultsFA['State']==state]\n",
    "#     state_line_data=state_data.groupby(['CO2 Price', 'Formic Acid Price'])['Profit ($ Million)'].mean().reset_index()\n",
    "#     plt.plot(state_line_data['Formic Acid Price'], state_line_data['Profit ($ Million)'], label=state, marker='o')\n",
    "\n",
    "# plt.legend(title=\"State\", bbox_to_anchor=(1,1), loc='best')\n",
    "plt.tight_layout()\n",
    "plt.show()"
   ]
  },
  {
   "cell_type": "code",
   "execution_count": null,
   "id": "d0a0978b-8088-42f9-96ac-ddc27656a2d2",
   "metadata": {},
   "outputs": [],
   "source": [
    "%%time\n",
    "# Define your specific price ranges for the new dataset\n",
    "fa_price_range = np.arange(0, 201, 1)  # Formic Acid Price range from 0 to 200\n",
    "co2_price_range = np.arange(-100, 101, 1)  # CO2 Price range from -100 to 100\n",
    "electricity_price_range=dict(zip(elecMAWNC['State'], elecMAWNC['Price ($/kWh)']))  # Electricity Price range\n",
    "state_div=dict(zip(elecMAWNC['State'], elecMAWNC['Division']))\n",
    "\n",
    "# Initialize an empty list to store the results\n",
    "resultsFA_new = []\n",
    "\n",
    "# Loop through the new ranges and calculate profit\n",
    "for co2_price in co2_price_range:\n",
    "    for state, electricity_price in electricity_price_range.items():  # Use the state and its associated electricity price\n",
    "        division=state_div[state]\n",
    "        for FA_price in fa_price_range:\n",
    "            # Calculate profit\n",
    "            profit = ((co2_flow * FA_price * FA_factor) -\n",
    "                      (co2_flow * electricity_price * elec_factor) -\n",
    "                      (co2_flow * co2_price * co2_factor)\n",
    "                     ) * 60 * 60 * yearh\n",
    "            # Store results for each combination\n",
    "            for index, p in enumerate(profit):\n",
    "                resultsFA_new.append({\n",
    "                    'CO2 Flow Rate (mol/s)': co2_flow[index],\n",
    "                    'CO2 Price': co2_price, \n",
    "                    'Electricity Price C': electricity_price,\n",
    "                    'Formic Acid Price C': FA_price,\n",
    "                    'State': state,\n",
    "                    'Division': division,\n",
    "                    'Profit ($)': p\n",
    "                })\n",
    "\n",
    "# Create a DataFrame from the results\n",
    "df_resultsFA_new = pd.DataFrame(resultsFA_new)\n",
    "\n",
    "# Optionally, format columns for easier reading\n",
    "df_resultsFA_new[\"Electricity Price\"] = df_resultsFA_new[\"Electricity Price C\"].map(lambda x: f\"{x:.2f}\")\n",
    "df_resultsFA_new[\"Formic Acid Price\"] = df_resultsFA_new[\"Formic Acid Price C\"].map(lambda x: f\"{x:.0f}\")\n",
    "sensrow=df_resultsFA_new.shape[0]\n",
    "print(\"Total Rows:\", sensrow)"
   ]
  },
  {
   "cell_type": "code",
   "execution_count": null,
   "id": "5df6dded-1229-42cb-a91e-d93a92514ba6",
   "metadata": {},
   "outputs": [],
   "source": [
    "min_valtot_ind=df_resultsFA_new['Profit ($)'].idxmin()\n",
    "max_valtot_ind=df_resultsFA_new['Profit ($)'].idxmax()\n",
    "min_prof_st=df_resultsFA_new.loc[min_valtot_ind, 'State']\n",
    "max_prof_st=df_resultsFA_new.loc[max_valtot_ind, 'State']\n",
    "\n",
    "print(f\"Max Profit State: {max_prof_st}, Profit: ${df_resultsFA_new.loc[max_valtot_ind, 'Profit ($)']:,.0f}\")\n",
    "print(f\"Min Profit State: {min_prof_st}, Profit: ${df_resultsFA_new.loc[min_valtot_ind, 'Profit ($)']:,.0f}\")"
   ]
  },
  {
   "cell_type": "code",
   "execution_count": null,
   "id": "8e80eaa4-bf10-4dd6-ab8b-9b90427411d5",
   "metadata": {},
   "outputs": [],
   "source": [
    "tol_tot = 100\n",
    "zero_prof_rows_tot=df_resultsFA_new[(df_resultsFA_new['Profit ($)'] >= -tol_tot) &\n",
    "                                    (df_resultsFA_new['Profit ($)'] <= tol_tot)]\n",
    "state_rows=zero_prof_rows_tot.groupby('State').size()\n",
    "print(\"Total Zero Profit Rows:\", zero_prof_rows_tot.shape[0])\n",
    "print(\"Total Zero Profit Rows in Each State:\")\n",
    "print(state_rows.to_string())"
   ]
  },
  {
   "cell_type": "code",
   "execution_count": null,
   "id": "5a42631a-e234-4175-8953-dd051bdc7bf8",
   "metadata": {},
   "outputs": [],
   "source": [
    "nj_data=df_resultsFA_new[df_resultsFA_new['State']==\"New Jersey\"]\n",
    "\n",
    "min_val=nj_data['Profit ($)'].min()\n",
    "max_val=nj_data['Profit ($)'].max()\n",
    "\n",
    "rows_count=nj_data.shape[0]\n",
    "print(\"Total rows\", rows_count)\n",
    "# If you'd like to check where the profit is close to 0, you can filter here:\n",
    "# Define a tolerance for finding profits close to 0 (can be positive or negative range)\n",
    "tolerance = 100\n",
    "\n",
    "# Filter rows where profit is between -tolerance and +tolerance\n",
    "zero_profit_rows_nj = nj_data[(nj_data['Profit ($)'] >= -tolerance) &\n",
    "                                (nj_data['Profit ($)'] <= tolerance)]\n",
    "\n",
    "# Display the filtered results\n",
    "print(\"Zero Profit:\", zero_profit_rows_nj.shape[0])\n",
    "# print(zero_profit_rows_nj[['State', 'CO2 Price', 'Formic Acid Price', 'Profit ($)']])\n",
    "print(zero_profit_rows_nj)"
   ]
  },
  {
   "cell_type": "markdown",
   "id": "80b24d3d-fe22-45e6-b399-18f6d7feb125",
   "metadata": {},
   "source": [
    "## Interactive Heatmap of CO2 Price, Formic Acid Price and Plant Profit"
   ]
  },
  {
   "cell_type": "code",
   "execution_count": null,
   "id": "ab070068-25ac-4e43-a13d-087ec3b17e33",
   "metadata": {},
   "outputs": [],
   "source": [
    "fig=px.imshow(pivot_FA, \n",
    "              labels={'x': 'Formic Acid Price', 'y': 'CO2 Price', 'color': 'Profit ($ Million)'},\n",
    "              title='Heatmap of Profit by FA Price and CO2 Price', \n",
    "              color_continuous_scale='YlGnBu')\n",
    "fig.show()"
   ]
  }
 ],
 "metadata": {
  "kernelspec": {
   "display_name": "Python 3 (ipykernel)",
   "language": "python",
   "name": "python3"
  },
  "language_info": {
   "codemirror_mode": {
    "name": "ipython",
    "version": 3
   },
   "file_extension": ".py",
   "mimetype": "text/x-python",
   "name": "python",
   "nbconvert_exporter": "python",
   "pygments_lexer": "ipython3",
   "version": "3.13.2"
  }
 },
 "nbformat": 4,
 "nbformat_minor": 5
}
